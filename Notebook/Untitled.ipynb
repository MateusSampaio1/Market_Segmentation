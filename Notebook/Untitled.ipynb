{
 "cells": [
  {
   "cell_type": "code",
   "execution_count": 1,
   "id": "fe83f51f",
   "metadata": {},
   "outputs": [],
   "source": [
    "# Importando as bibliotecas utilizadas no projeto\n",
    "import pandas as pd\n",
    "import seaborn as sns\n",
    "import numpy as np\n",
    "import matplotlib.pyplot as plt\n",
    "%matplotlib inline"
   ]
  },
  {
   "cell_type": "code",
   "execution_count": 2,
   "id": "345ba8ff",
   "metadata": {},
   "outputs": [
    {
     "data": {
      "text/html": [
       "<div>\n",
       "<style scoped>\n",
       "    .dataframe tbody tr th:only-of-type {\n",
       "        vertical-align: middle;\n",
       "    }\n",
       "\n",
       "    .dataframe tbody tr th {\n",
       "        vertical-align: top;\n",
       "    }\n",
       "\n",
       "    .dataframe thead th {\n",
       "        text-align: right;\n",
       "    }\n",
       "</style>\n",
       "<table border=\"1\" class=\"dataframe\">\n",
       "  <thead>\n",
       "    <tr style=\"text-align: right;\">\n",
       "      <th></th>\n",
       "      <th>CUST_ID</th>\n",
       "      <th>BALANCE</th>\n",
       "      <th>BALANCE_FREQUENCY</th>\n",
       "      <th>PURCHASES</th>\n",
       "      <th>ONEOFF_PURCHASES</th>\n",
       "      <th>INSTALLMENTS_PURCHASES</th>\n",
       "      <th>CASH_ADVANCE</th>\n",
       "      <th>PURCHASES_FREQUENCY</th>\n",
       "      <th>ONEOFF_PURCHASES_FREQUENCY</th>\n",
       "      <th>PURCHASES_INSTALLMENTS_FREQUENCY</th>\n",
       "      <th>CASH_ADVANCE_FREQUENCY</th>\n",
       "      <th>CASH_ADVANCE_TRX</th>\n",
       "      <th>PURCHASES_TRX</th>\n",
       "      <th>CREDIT_LIMIT</th>\n",
       "      <th>PAYMENTS</th>\n",
       "      <th>MINIMUM_PAYMENTS</th>\n",
       "      <th>PRC_FULL_PAYMENT</th>\n",
       "      <th>TENURE</th>\n",
       "    </tr>\n",
       "  </thead>\n",
       "  <tbody>\n",
       "    <tr>\n",
       "      <th>0</th>\n",
       "      <td>C10001</td>\n",
       "      <td>40.900749</td>\n",
       "      <td>0.818182</td>\n",
       "      <td>95.40</td>\n",
       "      <td>0.00</td>\n",
       "      <td>95.4</td>\n",
       "      <td>0.000000</td>\n",
       "      <td>0.166667</td>\n",
       "      <td>0.000000</td>\n",
       "      <td>0.083333</td>\n",
       "      <td>0.000000</td>\n",
       "      <td>0</td>\n",
       "      <td>2</td>\n",
       "      <td>1000.0</td>\n",
       "      <td>201.802084</td>\n",
       "      <td>139.509787</td>\n",
       "      <td>0.000000</td>\n",
       "      <td>12</td>\n",
       "    </tr>\n",
       "    <tr>\n",
       "      <th>1</th>\n",
       "      <td>C10002</td>\n",
       "      <td>3202.467416</td>\n",
       "      <td>0.909091</td>\n",
       "      <td>0.00</td>\n",
       "      <td>0.00</td>\n",
       "      <td>0.0</td>\n",
       "      <td>6442.945483</td>\n",
       "      <td>0.000000</td>\n",
       "      <td>0.000000</td>\n",
       "      <td>0.000000</td>\n",
       "      <td>0.250000</td>\n",
       "      <td>4</td>\n",
       "      <td>0</td>\n",
       "      <td>7000.0</td>\n",
       "      <td>4103.032597</td>\n",
       "      <td>1072.340217</td>\n",
       "      <td>0.222222</td>\n",
       "      <td>12</td>\n",
       "    </tr>\n",
       "    <tr>\n",
       "      <th>2</th>\n",
       "      <td>C10003</td>\n",
       "      <td>2495.148862</td>\n",
       "      <td>1.000000</td>\n",
       "      <td>773.17</td>\n",
       "      <td>773.17</td>\n",
       "      <td>0.0</td>\n",
       "      <td>0.000000</td>\n",
       "      <td>1.000000</td>\n",
       "      <td>1.000000</td>\n",
       "      <td>0.000000</td>\n",
       "      <td>0.000000</td>\n",
       "      <td>0</td>\n",
       "      <td>12</td>\n",
       "      <td>7500.0</td>\n",
       "      <td>622.066742</td>\n",
       "      <td>627.284787</td>\n",
       "      <td>0.000000</td>\n",
       "      <td>12</td>\n",
       "    </tr>\n",
       "    <tr>\n",
       "      <th>3</th>\n",
       "      <td>C10004</td>\n",
       "      <td>1666.670542</td>\n",
       "      <td>0.636364</td>\n",
       "      <td>1499.00</td>\n",
       "      <td>1499.00</td>\n",
       "      <td>0.0</td>\n",
       "      <td>205.788017</td>\n",
       "      <td>0.083333</td>\n",
       "      <td>0.083333</td>\n",
       "      <td>0.000000</td>\n",
       "      <td>0.083333</td>\n",
       "      <td>1</td>\n",
       "      <td>1</td>\n",
       "      <td>7500.0</td>\n",
       "      <td>0.000000</td>\n",
       "      <td>NaN</td>\n",
       "      <td>0.000000</td>\n",
       "      <td>12</td>\n",
       "    </tr>\n",
       "    <tr>\n",
       "      <th>4</th>\n",
       "      <td>C10005</td>\n",
       "      <td>817.714335</td>\n",
       "      <td>1.000000</td>\n",
       "      <td>16.00</td>\n",
       "      <td>16.00</td>\n",
       "      <td>0.0</td>\n",
       "      <td>0.000000</td>\n",
       "      <td>0.083333</td>\n",
       "      <td>0.083333</td>\n",
       "      <td>0.000000</td>\n",
       "      <td>0.000000</td>\n",
       "      <td>0</td>\n",
       "      <td>1</td>\n",
       "      <td>1200.0</td>\n",
       "      <td>678.334763</td>\n",
       "      <td>244.791237</td>\n",
       "      <td>0.000000</td>\n",
       "      <td>12</td>\n",
       "    </tr>\n",
       "  </tbody>\n",
       "</table>\n",
       "</div>"
      ],
      "text/plain": [
       "  CUST_ID      BALANCE  BALANCE_FREQUENCY  PURCHASES  ONEOFF_PURCHASES  \\\n",
       "0  C10001    40.900749           0.818182      95.40              0.00   \n",
       "1  C10002  3202.467416           0.909091       0.00              0.00   \n",
       "2  C10003  2495.148862           1.000000     773.17            773.17   \n",
       "3  C10004  1666.670542           0.636364    1499.00           1499.00   \n",
       "4  C10005   817.714335           1.000000      16.00             16.00   \n",
       "\n",
       "   INSTALLMENTS_PURCHASES  CASH_ADVANCE  PURCHASES_FREQUENCY  \\\n",
       "0                    95.4      0.000000             0.166667   \n",
       "1                     0.0   6442.945483             0.000000   \n",
       "2                     0.0      0.000000             1.000000   \n",
       "3                     0.0    205.788017             0.083333   \n",
       "4                     0.0      0.000000             0.083333   \n",
       "\n",
       "   ONEOFF_PURCHASES_FREQUENCY  PURCHASES_INSTALLMENTS_FREQUENCY  \\\n",
       "0                    0.000000                          0.083333   \n",
       "1                    0.000000                          0.000000   \n",
       "2                    1.000000                          0.000000   \n",
       "3                    0.083333                          0.000000   \n",
       "4                    0.083333                          0.000000   \n",
       "\n",
       "   CASH_ADVANCE_FREQUENCY  CASH_ADVANCE_TRX  PURCHASES_TRX  CREDIT_LIMIT  \\\n",
       "0                0.000000                 0              2        1000.0   \n",
       "1                0.250000                 4              0        7000.0   \n",
       "2                0.000000                 0             12        7500.0   \n",
       "3                0.083333                 1              1        7500.0   \n",
       "4                0.000000                 0              1        1200.0   \n",
       "\n",
       "      PAYMENTS  MINIMUM_PAYMENTS  PRC_FULL_PAYMENT  TENURE  \n",
       "0   201.802084        139.509787          0.000000      12  \n",
       "1  4103.032597       1072.340217          0.222222      12  \n",
       "2   622.066742        627.284787          0.000000      12  \n",
       "3     0.000000               NaN          0.000000      12  \n",
       "4   678.334763        244.791237          0.000000      12  "
      ]
     },
     "execution_count": 2,
     "metadata": {},
     "output_type": "execute_result"
    }
   ],
   "source": [
    "# Carregando e visualizando os dados\n",
    "dados = pd.read_csv('../Dados/Customer_Data.csv')\n",
    "dados.head()"
   ]
  },
  {
   "cell_type": "code",
   "execution_count": 3,
   "id": "c97096a5",
   "metadata": {},
   "outputs": [
    {
     "name": "stdout",
     "output_type": "stream",
     "text": [
      "O Dataset possui 8950 linhas e 18 colunas\n"
     ]
    }
   ],
   "source": [
    "# Visualizando a quantidade de linhas e colunas presentes no Dataset\n",
    "print('O Dataset possui %d linhas e %d colunas'%dados.shape)"
   ]
  },
  {
   "cell_type": "code",
   "execution_count": 4,
   "id": "dcb2521c",
   "metadata": {},
   "outputs": [
    {
     "name": "stdout",
     "output_type": "stream",
     "text": [
      "<class 'pandas.core.frame.DataFrame'>\n",
      "RangeIndex: 8950 entries, 0 to 8949\n",
      "Data columns (total 18 columns):\n",
      " #   Column                            Non-Null Count  Dtype  \n",
      "---  ------                            --------------  -----  \n",
      " 0   CUST_ID                           8950 non-null   object \n",
      " 1   BALANCE                           8950 non-null   float64\n",
      " 2   BALANCE_FREQUENCY                 8950 non-null   float64\n",
      " 3   PURCHASES                         8950 non-null   float64\n",
      " 4   ONEOFF_PURCHASES                  8950 non-null   float64\n",
      " 5   INSTALLMENTS_PURCHASES            8950 non-null   float64\n",
      " 6   CASH_ADVANCE                      8950 non-null   float64\n",
      " 7   PURCHASES_FREQUENCY               8950 non-null   float64\n",
      " 8   ONEOFF_PURCHASES_FREQUENCY        8950 non-null   float64\n",
      " 9   PURCHASES_INSTALLMENTS_FREQUENCY  8950 non-null   float64\n",
      " 10  CASH_ADVANCE_FREQUENCY            8950 non-null   float64\n",
      " 11  CASH_ADVANCE_TRX                  8950 non-null   int64  \n",
      " 12  PURCHASES_TRX                     8950 non-null   int64  \n",
      " 13  CREDIT_LIMIT                      8949 non-null   float64\n",
      " 14  PAYMENTS                          8950 non-null   float64\n",
      " 15  MINIMUM_PAYMENTS                  8637 non-null   float64\n",
      " 16  PRC_FULL_PAYMENT                  8950 non-null   float64\n",
      " 17  TENURE                            8950 non-null   int64  \n",
      "dtypes: float64(14), int64(3), object(1)\n",
      "memory usage: 1.2+ MB\n"
     ]
    }
   ],
   "source": [
    "# Obtendo informações sobre os dados\n",
    "dados.info()"
   ]
  },
  {
   "cell_type": "code",
   "execution_count": 5,
   "id": "7f5530f9",
   "metadata": {},
   "outputs": [
    {
     "data": {
      "text/plain": [
       "CUST_ID                               0\n",
       "BALANCE                               0\n",
       "BALANCE_FREQUENCY                     0\n",
       "PURCHASES                             0\n",
       "ONEOFF_PURCHASES                      0\n",
       "INSTALLMENTS_PURCHASES                0\n",
       "CASH_ADVANCE                          0\n",
       "PURCHASES_FREQUENCY                   0\n",
       "ONEOFF_PURCHASES_FREQUENCY            0\n",
       "PURCHASES_INSTALLMENTS_FREQUENCY      0\n",
       "CASH_ADVANCE_FREQUENCY                0\n",
       "CASH_ADVANCE_TRX                      0\n",
       "PURCHASES_TRX                         0\n",
       "CREDIT_LIMIT                          1\n",
       "PAYMENTS                              0\n",
       "MINIMUM_PAYMENTS                    313\n",
       "PRC_FULL_PAYMENT                      0\n",
       "TENURE                                0\n",
       "dtype: int64"
      ]
     },
     "execution_count": 5,
     "metadata": {},
     "output_type": "execute_result"
    }
   ],
   "source": [
    "# Existem alguma colunas com dados faltantes.\n",
    "dados.isnull().sum()"
   ]
  },
  {
   "cell_type": "code",
   "execution_count": 6,
   "id": "0b14918c",
   "metadata": {},
   "outputs": [
    {
     "name": "stdout",
     "output_type": "stream",
     "text": [
      "<class 'pandas.core.frame.DataFrame'>\n",
      "RangeIndex: 8636 entries, 0 to 8635\n",
      "Data columns (total 18 columns):\n",
      " #   Column                            Non-Null Count  Dtype  \n",
      "---  ------                            --------------  -----  \n",
      " 0   CUST_ID                           8636 non-null   object \n",
      " 1   BALANCE                           8636 non-null   float64\n",
      " 2   BALANCE_FREQUENCY                 8636 non-null   float64\n",
      " 3   PURCHASES                         8636 non-null   float64\n",
      " 4   ONEOFF_PURCHASES                  8636 non-null   float64\n",
      " 5   INSTALLMENTS_PURCHASES            8636 non-null   float64\n",
      " 6   CASH_ADVANCE                      8636 non-null   float64\n",
      " 7   PURCHASES_FREQUENCY               8636 non-null   float64\n",
      " 8   ONEOFF_PURCHASES_FREQUENCY        8636 non-null   float64\n",
      " 9   PURCHASES_INSTALLMENTS_FREQUENCY  8636 non-null   float64\n",
      " 10  CASH_ADVANCE_FREQUENCY            8636 non-null   float64\n",
      " 11  CASH_ADVANCE_TRX                  8636 non-null   int64  \n",
      " 12  PURCHASES_TRX                     8636 non-null   int64  \n",
      " 13  CREDIT_LIMIT                      8636 non-null   float64\n",
      " 14  PAYMENTS                          8636 non-null   float64\n",
      " 15  MINIMUM_PAYMENTS                  8636 non-null   float64\n",
      " 16  PRC_FULL_PAYMENT                  8636 non-null   float64\n",
      " 17  TENURE                            8636 non-null   int64  \n",
      "dtypes: float64(14), int64(3), object(1)\n",
      "memory usage: 1.2+ MB\n"
     ]
    }
   ],
   "source": [
    "# Removendo essa colunas com dados faltantes\n",
    "dados.dropna(inplace = True)\n",
    "# Resetando o index\n",
    "dados.reset_index(inplace = True, drop = True)\n",
    "dados.info()"
   ]
  },
  {
   "cell_type": "markdown",
   "id": "d8e04a47",
   "metadata": {},
   "source": [
    "Antes de prosseguir para as próxima etapas, é importante compreender qual é a informação presente em cada coluna, por isso, segure abaixo um dicionário dos dados simplificado:\n",
    "\n",
    "- **CUST_ID**: ID do cliente.\n",
    "- **BALANCE**: Saldo devido pelo cliente.\n",
    "- **BALANCE_FREQUENCY**: Frequência de atualização do saldo.\n",
    "- **PURCHASES**: Total em compras.\n",
    "- **ONEOFF_PURCHASES**: Compras à vista.\n",
    "- **INSTALLMENTS_PURCHASES**: Compras parceladas.\n",
    "- **CASH_ADVANCE**: Saques utilizando o cartão(Empréstimos).\n",
    "- **PURCHASES_FREQUENCY**: Frequência de compras.\n",
    "- **ONEOFF_PURCHASES_FREQUENCY**: Frequencia de compras à vista.\n",
    "- **PURCHASES_INSTALLMENTS_FREQUENCY**: Frequência de compras parcelada.\n",
    "- **CASH_ADVANCE_FREQUENCY**: Frequência de realização dos saques.\n",
    "- **CASH_ADVANCE_TRX**: Taxa de transações relacionadas aos saques.\n",
    "- **PURCHASES_TRX**: Número de transações relacionadas a compra. \n",
    "- **CREDIT_LIMIT**: Limite do cartão de crédito.\n",
    "- **PAYMENTS**: Valor do pagamento feito pelos clientes.\n",
    "- **MINIMUM_PAYMENTS**: Valor mínimos dos pagamentos realizados pelo cliente.\n",
    "- **PRC_FULL_PAYMENT**: Porcentagem de pagamentos totais feitos pelo cliente.\n",
    "- **TENURE**: Tempo de contrato como cliente."
   ]
  },
  {
   "cell_type": "code",
   "execution_count": 7,
   "id": "31350f4d",
   "metadata": {},
   "outputs": [],
   "source": [
    "# Removendo as colunas Cust_id e Tenure \n",
    "dados = dados.drop(['CUST_ID', 'TENURE'], axis = 1)"
   ]
  },
  {
   "cell_type": "code",
   "execution_count": 8,
   "id": "6ff9b4e6",
   "metadata": {},
   "outputs": [],
   "source": [
    "# Importando e instanciando o StandardScaler\n",
    "from sklearn.preprocessing import StandardScaler\n",
    "scaler = StandardScaler()\n",
    "# Normalizando os dados.\n",
    "dados_norm = scaler.fit_transform(dados)"
   ]
  },
  {
   "cell_type": "code",
   "execution_count": 9,
   "id": "0ea0d082",
   "metadata": {},
   "outputs": [
    {
     "name": "stdout",
     "output_type": "stream",
     "text": [
      "0.2155839424378504 1.4899963180613613 1688.550657903527\n"
     ]
    }
   ],
   "source": [
    "# Rodando o KMeans para 4 clusters\n",
    "from sklearn.cluster import KMeans\n",
    "from sklearn import metrics\n",
    "\n",
    "kmeans = KMeans(n_clusters= 4)\n",
    "y_pred = kmeans.fit_predict(dados_norm)\n",
    "\n",
    "labels = kmeans.labels_\n",
    "silhouette = metrics.silhouette_score(dados_norm, labels, metric = 'euclidean')\n",
    "dbs = metrics.davies_bouldin_score(dados_norm, labels)\n",
    "calinski = metrics.calinski_harabasz_score(dados_norm, labels)\n",
    "print(silhouette, dbs, calinski)"
   ]
  },
  {
   "cell_type": "code",
   "execution_count": 10,
   "id": "9b1a7732",
   "metadata": {},
   "outputs": [
    {
     "name": "stdout",
     "output_type": "stream",
     "text": [
      "0.20246490916045862 1.6674836193934048 1644.6723588112666\n"
     ]
    }
   ],
   "source": [
    "# Rodando o KMeans para 3 clusters\n",
    "kmeans_3 = KMeans(n_clusters= 3)\n",
    "y_pred = kmeans_3.fit_predict(dados_norm)\n",
    "\n",
    "labels = kmeans_3.labels_\n",
    "silhouette_3 = metrics.silhouette_score(dados_norm, labels, metric= 'euclidean')\n",
    "dbs_3 = metrics.davies_bouldin_score(dados_norm,labels)\n",
    "calinski_3 = metrics.calinski_harabasz_score(dados_norm, labels)\n",
    "print(silhouette_3, dbs_3, calinski_3)"
   ]
  },
  {
   "cell_type": "code",
   "execution_count": 11,
   "id": "1e864393",
   "metadata": {},
   "outputs": [
    {
     "name": "stdout",
     "output_type": "stream",
     "text": [
      "0.21097587760282518 1.4750704457344024 1576.9967806534053\n"
     ]
    }
   ],
   "source": [
    "# Rodando o KMeans para 5 clusters\n",
    "kmeans_5 = KMeans(n_clusters= 5)\n",
    "y_pred = kmeans_5.fit_predict(dados_norm)\n",
    "\n",
    "labels = kmeans_5.labels_\n",
    "silhouette_5 = metrics.silhouette_score(dados_norm, labels, metric= 'euclidean')\n",
    "dbs_5 = metrics.davies_bouldin_score(dados_norm,labels)\n",
    "calinski_5 = metrics.calinski_harabasz_score(dados_norm, labels)\n",
    "print(silhouette_5, dbs_5, calinski_5)"
   ]
  },
  {
   "cell_type": "code",
   "execution_count": 12,
   "id": "0fb7168e",
   "metadata": {},
   "outputs": [
    {
     "name": "stdout",
     "output_type": "stream",
     "text": [
      "2\n",
      "3\n",
      "4\n",
      "5\n",
      "6\n",
      "7\n",
      "8\n",
      "9\n"
     ]
    }
   ],
   "source": [
    "distortions = []\n",
    "n_clusters = range(2,10)\n",
    "for n_clust in n_clusters:\n",
    "    print(n_clust)\n",
    "    distortions.append(KMeans(n_clusters = n_clust, max_iter = 10_000, n_init = 100, random_state = 7).fit(dados_norm).inertia_)\n",
    "    "
   ]
  },
  {
   "cell_type": "code",
   "execution_count": 13,
   "id": "908b495c",
   "metadata": {},
   "outputs": [
    {
     "data": {
      "text/plain": [
       "[114698.51349039999,\n",
       " 99579.79627619877,\n",
       " 87075.86298934142,\n",
       " 79831.2710779297,\n",
       " 73173.19703936568,\n",
       " 68220.58335622995,\n",
       " 63716.3171537004,\n",
       " 60338.497433008844]"
      ]
     },
     "execution_count": 13,
     "metadata": {},
     "output_type": "execute_result"
    }
   ],
   "source": [
    "distortions"
   ]
  },
  {
   "cell_type": "code",
   "execution_count": 14,
   "id": "16b1b3e1",
   "metadata": {},
   "outputs": [
    {
     "data": {
      "image/png": "[encoded data removed]",
      "text/plain": [
       "<Figure size 1080x360 with 1 Axes>"
      ]
     },
     "metadata": {
      "needs_background": "light"
     },
     "output_type": "display_data"
    }
   ],
   "source": [
    "# Plotando o gráfico de cotovelo\n",
    "plt.figure(figsize = (15,5))\n",
    "plt.plot(n_clusters, distortions)\n",
    "plt.grid()"
   ]
  },
  {
   "cell_type": "code",
   "execution_count": 15,
   "id": "58066fb0",
   "metadata": {},
   "outputs": [],
   "source": [
    "def cluster(n_clusters, dataset):\n",
    "  kmeans = KMeans(n_clusters= n_clusters, n_init = 10, max_iter = 300)\n",
    "  y_pred = kmeans.fit_predict(dataset)\n",
    "\n",
    "  #Calculando as métricas\n",
    "  s = metrics.silhouette_score(dataset, y_pred, metric = 'euclidean')\n",
    "  calinski = metrics.calinski_harabasz_score(dataset, y_pred)\n",
    "  dbs = metrics.davies_bouldin_score(dataset, y_pred)\n",
    "  return s, calinski, dbs"
   ]
  },
  {
   "cell_type": "code",
   "execution_count": 16,
   "id": "127f4a98",
   "metadata": {},
   "outputs": [
    {
     "name": "stdout",
     "output_type": "stream",
     "text": [
      "0.2228060061289984 1.3842911550870243 640.6423128896387\n",
      "0.21881269921329927 1.499763410138267 565.5243054917507\n",
      "0.2331186595356879 1.3612067856819305 617.5530936618036\n"
     ]
    }
   ],
   "source": [
    "# Separando os dados para avaliar a estabilidade\n",
    "set1, set2, set3 = np.array_split(dados_norm, 3)\n",
    "s1, calinski1, dbs1 = cluster(4, set1)\n",
    "s2, calinski2, dbs2 = cluster(4, set2)\n",
    "s3, calinski3, dbs3 = cluster(4, set3)\n",
    "print(s1, dbs1, calinski1)\n",
    "print(s2, dbs2, calinski2)\n",
    "print(s3, dbs3, calinski3)"
   ]
  },
  {
   "cell_type": "markdown",
   "id": "faf538be",
   "metadata": {},
   "source": [
    "> Os valores encontrados após a separação dos dados em 3 grupos diferentes são bem próximos entre si, o que indica que existe um estabilidade com esse agrupamento(4 clusters). "
   ]
  },
  {
   "cell_type": "code",
   "execution_count": 17,
   "id": "ef0711b3",
   "metadata": {},
   "outputs": [
    {
     "data": {
      "text/plain": [
       "array([3, 0, 1, ..., 1, 3, 3])"
      ]
     },
     "execution_count": 17,
     "metadata": {},
     "output_type": "execute_result"
    }
   ],
   "source": [
    "# Rodando o algorítmo com 4 clusters e atribuindo a variável X\n",
    "n_kmeans = KMeans(n_clusters = 4, max_iter = 10_000, n_init = 100, random_state = 7)\n",
    "X = n_kmeans.fit_predict(dados_norm)\n",
    "X"
   ]
  },
  {
   "cell_type": "code",
   "execution_count": 18,
   "id": "ac0fd131",
   "metadata": {},
   "outputs": [
    {
     "data": {
      "text/html": [
       "<div>\n",
       "<style scoped>\n",
       "    .dataframe tbody tr th:only-of-type {\n",
       "        vertical-align: middle;\n",
       "    }\n",
       "\n",
       "    .dataframe tbody tr th {\n",
       "        vertical-align: top;\n",
       "    }\n",
       "\n",
       "    .dataframe thead th {\n",
       "        text-align: right;\n",
       "    }\n",
       "</style>\n",
       "<table border=\"1\" class=\"dataframe\">\n",
       "  <thead>\n",
       "    <tr style=\"text-align: right;\">\n",
       "      <th></th>\n",
       "      <th>BALANCE</th>\n",
       "      <th>BALANCE_FREQUENCY</th>\n",
       "      <th>PURCHASES</th>\n",
       "      <th>ONEOFF_PURCHASES</th>\n",
       "      <th>INSTALLMENTS_PURCHASES</th>\n",
       "      <th>CASH_ADVANCE</th>\n",
       "      <th>PURCHASES_FREQUENCY</th>\n",
       "      <th>ONEOFF_PURCHASES_FREQUENCY</th>\n",
       "      <th>PURCHASES_INSTALLMENTS_FREQUENCY</th>\n",
       "      <th>CASH_ADVANCE_FREQUENCY</th>\n",
       "      <th>CASH_ADVANCE_TRX</th>\n",
       "      <th>PURCHASES_TRX</th>\n",
       "      <th>CREDIT_LIMIT</th>\n",
       "      <th>PAYMENTS</th>\n",
       "      <th>MINIMUM_PAYMENTS</th>\n",
       "      <th>PRC_FULL_PAYMENT</th>\n",
       "      <th>Cluster</th>\n",
       "    </tr>\n",
       "  </thead>\n",
       "  <tbody>\n",
       "    <tr>\n",
       "      <th>0</th>\n",
       "      <td>40.900749</td>\n",
       "      <td>0.818182</td>\n",
       "      <td>95.40</td>\n",
       "      <td>0.00</td>\n",
       "      <td>95.40</td>\n",
       "      <td>0.000000</td>\n",
       "      <td>0.166667</td>\n",
       "      <td>0.000000</td>\n",
       "      <td>0.083333</td>\n",
       "      <td>0.00</td>\n",
       "      <td>0</td>\n",
       "      <td>2</td>\n",
       "      <td>1000.0</td>\n",
       "      <td>201.802084</td>\n",
       "      <td>139.509787</td>\n",
       "      <td>0.000000</td>\n",
       "      <td>3</td>\n",
       "    </tr>\n",
       "    <tr>\n",
       "      <th>1</th>\n",
       "      <td>3202.467416</td>\n",
       "      <td>0.909091</td>\n",
       "      <td>0.00</td>\n",
       "      <td>0.00</td>\n",
       "      <td>0.00</td>\n",
       "      <td>6442.945483</td>\n",
       "      <td>0.000000</td>\n",
       "      <td>0.000000</td>\n",
       "      <td>0.000000</td>\n",
       "      <td>0.25</td>\n",
       "      <td>4</td>\n",
       "      <td>0</td>\n",
       "      <td>7000.0</td>\n",
       "      <td>4103.032597</td>\n",
       "      <td>1072.340217</td>\n",
       "      <td>0.222222</td>\n",
       "      <td>0</td>\n",
       "    </tr>\n",
       "    <tr>\n",
       "      <th>2</th>\n",
       "      <td>2495.148862</td>\n",
       "      <td>1.000000</td>\n",
       "      <td>773.17</td>\n",
       "      <td>773.17</td>\n",
       "      <td>0.00</td>\n",
       "      <td>0.000000</td>\n",
       "      <td>1.000000</td>\n",
       "      <td>1.000000</td>\n",
       "      <td>0.000000</td>\n",
       "      <td>0.00</td>\n",
       "      <td>0</td>\n",
       "      <td>12</td>\n",
       "      <td>7500.0</td>\n",
       "      <td>622.066742</td>\n",
       "      <td>627.284787</td>\n",
       "      <td>0.000000</td>\n",
       "      <td>1</td>\n",
       "    </tr>\n",
       "    <tr>\n",
       "      <th>3</th>\n",
       "      <td>817.714335</td>\n",
       "      <td>1.000000</td>\n",
       "      <td>16.00</td>\n",
       "      <td>16.00</td>\n",
       "      <td>0.00</td>\n",
       "      <td>0.000000</td>\n",
       "      <td>0.083333</td>\n",
       "      <td>0.083333</td>\n",
       "      <td>0.000000</td>\n",
       "      <td>0.00</td>\n",
       "      <td>0</td>\n",
       "      <td>1</td>\n",
       "      <td>1200.0</td>\n",
       "      <td>678.334763</td>\n",
       "      <td>244.791237</td>\n",
       "      <td>0.000000</td>\n",
       "      <td>3</td>\n",
       "    </tr>\n",
       "    <tr>\n",
       "      <th>4</th>\n",
       "      <td>1809.828751</td>\n",
       "      <td>1.000000</td>\n",
       "      <td>1333.28</td>\n",
       "      <td>0.00</td>\n",
       "      <td>1333.28</td>\n",
       "      <td>0.000000</td>\n",
       "      <td>0.666667</td>\n",
       "      <td>0.000000</td>\n",
       "      <td>0.583333</td>\n",
       "      <td>0.00</td>\n",
       "      <td>0</td>\n",
       "      <td>8</td>\n",
       "      <td>1800.0</td>\n",
       "      <td>1400.057770</td>\n",
       "      <td>2407.246035</td>\n",
       "      <td>0.000000</td>\n",
       "      <td>1</td>\n",
       "    </tr>\n",
       "  </tbody>\n",
       "</table>\n",
       "</div>"
      ],
      "text/plain": [
       "       BALANCE  BALANCE_FREQUENCY  PURCHASES  ONEOFF_PURCHASES  \\\n",
       "0    40.900749           0.818182      95.40              0.00   \n",
       "1  3202.467416           0.909091       0.00              0.00   \n",
       "2  2495.148862           1.000000     773.17            773.17   \n",
       "3   817.714335           1.000000      16.00             16.00   \n",
       "4  1809.828751           1.000000    1333.28              0.00   \n",
       "\n",
       "   INSTALLMENTS_PURCHASES  CASH_ADVANCE  PURCHASES_FREQUENCY  \\\n",
       "0                   95.40      0.000000             0.166667   \n",
       "1                    0.00   6442.945483             0.000000   \n",
       "2                    0.00      0.000000             1.000000   \n",
       "3                    0.00      0.000000             0.083333   \n",
       "4                 1333.28      0.000000             0.666667   \n",
       "\n",
       "   ONEOFF_PURCHASES_FREQUENCY  PURCHASES_INSTALLMENTS_FREQUENCY  \\\n",
       "0                    0.000000                          0.083333   \n",
       "1                    0.000000                          0.000000   \n",
       "2                    1.000000                          0.000000   \n",
       "3                    0.083333                          0.000000   \n",
       "4                    0.000000                          0.583333   \n",
       "\n",
       "   CASH_ADVANCE_FREQUENCY  CASH_ADVANCE_TRX  PURCHASES_TRX  CREDIT_LIMIT  \\\n",
       "0                    0.00                 0              2        1000.0   \n",
       "1                    0.25                 4              0        7000.0   \n",
       "2                    0.00                 0             12        7500.0   \n",
       "3                    0.00                 0              1        1200.0   \n",
       "4                    0.00                 0              8        1800.0   \n",
       "\n",
       "      PAYMENTS  MINIMUM_PAYMENTS  PRC_FULL_PAYMENT  Cluster  \n",
       "0   201.802084        139.509787          0.000000        3  \n",
       "1  4103.032597       1072.340217          0.222222        0  \n",
       "2   622.066742        627.284787          0.000000        1  \n",
       "3   678.334763        244.791237          0.000000        3  \n",
       "4  1400.057770       2407.246035          0.000000        1  "
      ]
     },
     "execution_count": 18,
     "metadata": {},
     "output_type": "execute_result"
    }
   ],
   "source": [
    "dados.insert(loc = 16, value = X, column = 'Cluster')\n",
    "dados.head()"
   ]
  },
  {
   "cell_type": "markdown",
   "id": "15c96791",
   "metadata": {},
   "source": [
    "## Interpretação dos clusters\n"
   ]
  },
  {
   "cell_type": "markdown",
   "id": "ae2cb43c",
   "metadata": {},
   "source": [
    "Existe uma grande quantidade de atributos presentes neste dataset, entretanto, para que possamos ter uma boa ideia das características presentes em cada cluster, irei selecionar todos os atributos com a exceção do Minimum_Payment."
   ]
  },
  {
   "cell_type": "code",
   "execution_count": 19,
   "id": "15737871",
   "metadata": {},
   "outputs": [
    {
     "name": "stdout",
     "output_type": "stream",
     "text": [
      "BALANCE \n",
      "0.5960\n",
      "BALANCE_FREQUENCY \n",
      "0.1005\n",
      "PURCHASES \n",
      "2.0760\n",
      "ONEOFF_PURCHASES \n",
      "1.5607\n",
      "INSTALLMENTS_PURCHASES \n",
      "1.2524\n",
      "CASH_ADVANCE \n",
      "0.7053\n",
      "PURCHASES_FREQUENCY \n",
      "0.7394\n",
      "ONEOFF_PURCHASES_FREQUENCY \n",
      "0.7335\n",
      "PURCHASES_INSTALLMENTS_FREQUENCY \n",
      "0.6096\n",
      "CASH_ADVANCE_FREQUENCY \n",
      "0.7874\n",
      "CASH_ADVANCE_TRX \n",
      "0.6445\n",
      "PURCHASES_TRX \n",
      "1.9621\n",
      "CREDIT_LIMIT \n",
      "0.5085\n",
      "PAYMENTS \n",
      "0.7772\n",
      "MINIMUM_PAYMENTS \n",
      "0.0888\n",
      "PRC_FULL_PAYMENT \n",
      "0.1465\n"
     ]
    }
   ],
   "source": [
    "# Selecionando os centroides dos clusters\n",
    "centroid = n_kmeans.cluster_centers_\n",
    "\n",
    "# Selecionando os atributos\n",
    "atributos = len(centroid[0])\n",
    "\n",
    "# Criando o laço que calcula a variância \n",
    "for i in range(atributos):\n",
    "    print(dados.columns.values[i],'\\n%.4f'%centroid[:,i].var())"
   ]
  },
  {
   "cell_type": "code",
   "execution_count": 20,
   "id": "f1cad050",
   "metadata": {},
   "outputs": [
    {
     "data": {
      "text/plain": [
       "Index(['BALANCE', 'BALANCE_FREQUENCY', 'PURCHASES', 'ONEOFF_PURCHASES',\n",
       "       'INSTALLMENTS_PURCHASES', 'CASH_ADVANCE', 'PURCHASES_FREQUENCY',\n",
       "       'ONEOFF_PURCHASES_FREQUENCY', 'PURCHASES_INSTALLMENTS_FREQUENCY',\n",
       "       'CASH_ADVANCE_FREQUENCY', 'CASH_ADVANCE_TRX', 'PURCHASES_TRX',\n",
       "       'CREDIT_LIMIT', 'PAYMENTS', 'MINIMUM_PAYMENTS', 'PRC_FULL_PAYMENT',\n",
       "       'Cluster'],\n",
       "      dtype='object')"
      ]
     },
     "execution_count": 20,
     "metadata": {},
     "output_type": "execute_result"
    }
   ],
   "source": [
    "dados.columns"
   ]
  },
  {
   "cell_type": "code",
   "execution_count": 21,
   "id": "31eef945",
   "metadata": {},
   "outputs": [
    {
     "name": "stderr",
     "output_type": "stream",
     "text": [
      "C:\\Users\\MATEUS~1\\AppData\\Local\\Temp/ipykernel_15248/2846061641.py:1: FutureWarning: Indexing with multiple keys (implicitly converted to a tuple of keys) will be deprecated, use a list instead.\n",
      "  av = dados.groupby('Cluster')['BALANCE', 'BALANCE_FREQUENCY', 'PURCHASES', 'ONEOFF_PURCHASES',\n"
     ]
    },
    {
     "data": {
      "text/html": [
       "<div>\n",
       "<style scoped>\n",
       "    .dataframe tbody tr th:only-of-type {\n",
       "        vertical-align: middle;\n",
       "    }\n",
       "\n",
       "    .dataframe tbody tr th {\n",
       "        vertical-align: top;\n",
       "    }\n",
       "\n",
       "    .dataframe thead th {\n",
       "        text-align: right;\n",
       "    }\n",
       "</style>\n",
       "<table border=\"1\" class=\"dataframe\">\n",
       "  <thead>\n",
       "    <tr style=\"text-align: right;\">\n",
       "      <th></th>\n",
       "      <th>BALANCE</th>\n",
       "      <th>BALANCE_FREQUENCY</th>\n",
       "      <th>PURCHASES</th>\n",
       "      <th>ONEOFF_PURCHASES</th>\n",
       "      <th>INSTALLMENTS_PURCHASES</th>\n",
       "      <th>CASH_ADVANCE</th>\n",
       "      <th>PURCHASES_FREQUENCY</th>\n",
       "      <th>ONEOFF_PURCHASES_FREQUENCY</th>\n",
       "      <th>PURCHASES_INSTALLMENTS_FREQUENCY</th>\n",
       "      <th>CASH_ADVANCE_FREQUENCY</th>\n",
       "      <th>CASH_ADVANCE_TRX</th>\n",
       "      <th>PURCHASES_TRX</th>\n",
       "      <th>CREDIT_LIMIT</th>\n",
       "      <th>PAYMENTS</th>\n",
       "      <th>PRC_FULL_PAYMENT</th>\n",
       "      <th>n_clientes</th>\n",
       "    </tr>\n",
       "    <tr>\n",
       "      <th>Cluster</th>\n",
       "      <th></th>\n",
       "      <th></th>\n",
       "      <th></th>\n",
       "      <th></th>\n",
       "      <th></th>\n",
       "      <th></th>\n",
       "      <th></th>\n",
       "      <th></th>\n",
       "      <th></th>\n",
       "      <th></th>\n",
       "      <th></th>\n",
       "      <th></th>\n",
       "      <th></th>\n",
       "      <th></th>\n",
       "      <th></th>\n",
       "      <th></th>\n",
       "    </tr>\n",
       "  </thead>\n",
       "  <tbody>\n",
       "    <tr>\n",
       "      <th>0</th>\n",
       "      <td>4670.638707</td>\n",
       "      <td>0.969581</td>\n",
       "      <td>506.268106</td>\n",
       "      <td>319.347228</td>\n",
       "      <td>187.009209</td>\n",
       "      <td>4592.258593</td>\n",
       "      <td>0.290530</td>\n",
       "      <td>0.139277</td>\n",
       "      <td>0.188675</td>\n",
       "      <td>0.487067</td>\n",
       "      <td>14.469157</td>\n",
       "      <td>7.765421</td>\n",
       "      <td>7673.809336</td>\n",
       "      <td>3567.050791</td>\n",
       "      <td>0.034727</td>\n",
       "      <td>1151</td>\n",
       "    </tr>\n",
       "    <tr>\n",
       "      <th>1</th>\n",
       "      <td>912.304871</td>\n",
       "      <td>0.945586</td>\n",
       "      <td>1268.165532</td>\n",
       "      <td>611.041375</td>\n",
       "      <td>657.405559</td>\n",
       "      <td>218.066382</td>\n",
       "      <td>0.887822</td>\n",
       "      <td>0.302086</td>\n",
       "      <td>0.714722</td>\n",
       "      <td>0.044114</td>\n",
       "      <td>0.819872</td>\n",
       "      <td>22.516001</td>\n",
       "      <td>4255.141802</td>\n",
       "      <td>1374.172916</td>\n",
       "      <td>0.274744</td>\n",
       "      <td>3281</td>\n",
       "    </tr>\n",
       "    <tr>\n",
       "      <th>2</th>\n",
       "      <td>3589.193728</td>\n",
       "      <td>0.987670</td>\n",
       "      <td>7843.311228</td>\n",
       "      <td>5228.017417</td>\n",
       "      <td>2616.828338</td>\n",
       "      <td>663.280441</td>\n",
       "      <td>0.945443</td>\n",
       "      <td>0.741297</td>\n",
       "      <td>0.786616</td>\n",
       "      <td>0.071375</td>\n",
       "      <td>2.115090</td>\n",
       "      <td>90.838875</td>\n",
       "      <td>9758.312020</td>\n",
       "      <td>7464.098243</td>\n",
       "      <td>0.291523</td>\n",
       "      <td>391</td>\n",
       "    </tr>\n",
       "    <tr>\n",
       "      <th>3</th>\n",
       "      <td>1063.631259</td>\n",
       "      <td>0.819535</td>\n",
       "      <td>274.153304</td>\n",
       "      <td>211.743666</td>\n",
       "      <td>62.688075</td>\n",
       "      <td>609.806379</td>\n",
       "      <td>0.174782</td>\n",
       "      <td>0.088363</td>\n",
       "      <td>0.082717</td>\n",
       "      <td>0.119352</td>\n",
       "      <td>2.215578</td>\n",
       "      <td>3.014949</td>\n",
       "      <td>3263.467960</td>\n",
       "      <td>1017.034790</td>\n",
       "      <td>0.084017</td>\n",
       "      <td>3813</td>\n",
       "    </tr>\n",
       "  </tbody>\n",
       "</table>\n",
       "</div>"
      ],
      "text/plain": [
       "             BALANCE  BALANCE_FREQUENCY    PURCHASES  ONEOFF_PURCHASES  \\\n",
       "Cluster                                                                  \n",
       "0        4670.638707           0.969581   506.268106        319.347228   \n",
       "1         912.304871           0.945586  1268.165532        611.041375   \n",
       "2        3589.193728           0.987670  7843.311228       5228.017417   \n",
       "3        1063.631259           0.819535   274.153304        211.743666   \n",
       "\n",
       "         INSTALLMENTS_PURCHASES  CASH_ADVANCE  PURCHASES_FREQUENCY  \\\n",
       "Cluster                                                              \n",
       "0                    187.009209   4592.258593             0.290530   \n",
       "1                    657.405559    218.066382             0.887822   \n",
       "2                   2616.828338    663.280441             0.945443   \n",
       "3                     62.688075    609.806379             0.174782   \n",
       "\n",
       "         ONEOFF_PURCHASES_FREQUENCY  PURCHASES_INSTALLMENTS_FREQUENCY  \\\n",
       "Cluster                                                                 \n",
       "0                          0.139277                          0.188675   \n",
       "1                          0.302086                          0.714722   \n",
       "2                          0.741297                          0.786616   \n",
       "3                          0.088363                          0.082717   \n",
       "\n",
       "         CASH_ADVANCE_FREQUENCY  CASH_ADVANCE_TRX  PURCHASES_TRX  \\\n",
       "Cluster                                                            \n",
       "0                      0.487067         14.469157       7.765421   \n",
       "1                      0.044114          0.819872      22.516001   \n",
       "2                      0.071375          2.115090      90.838875   \n",
       "3                      0.119352          2.215578       3.014949   \n",
       "\n",
       "         CREDIT_LIMIT     PAYMENTS  PRC_FULL_PAYMENT  n_clientes  \n",
       "Cluster                                                           \n",
       "0         7673.809336  3567.050791          0.034727        1151  \n",
       "1         4255.141802  1374.172916          0.274744        3281  \n",
       "2         9758.312020  7464.098243          0.291523         391  \n",
       "3         3263.467960  1017.034790          0.084017        3813  "
      ]
     },
     "execution_count": 21,
     "metadata": {},
     "output_type": "execute_result"
    }
   ],
   "source": [
    "av = dados.groupby('Cluster')['BALANCE', 'BALANCE_FREQUENCY', 'PURCHASES', 'ONEOFF_PURCHASES',\n",
    "                              'INSTALLMENTS_PURCHASES', 'CASH_ADVANCE', 'PURCHASES_FREQUENCY',\n",
    "                              'ONEOFF_PURCHASES_FREQUENCY', 'PURCHASES_INSTALLMENTS_FREQUENCY',\n",
    "                              'CASH_ADVANCE_FREQUENCY', 'CASH_ADVANCE_TRX', 'PURCHASES_TRX',\n",
    "                              'CREDIT_LIMIT', 'PAYMENTS', 'PRC_FULL_PAYMENT']\n",
    "clientes = av.size()\n",
    "av = av.mean()\n",
    "av['n_clientes'] = clientes\n",
    "av"
   ]
  },
  {
   "cell_type": "markdown",
   "id": "0d9784ce",
   "metadata": {},
   "source": [
    "### Esboço das características encontradas nos clusters\n",
    "\n",
    "Cluster 0 - Possui a maior média de saldo devido, Gastam muito com saques(Adiantamento de dinheiro), em média tem em torno de 7x mais transações de saque que os demais, tem o segundo maior limite de crédito, não são tão bons pagadores\n",
    "\n",
    "Cluster 1 - Possuem a menor média de saldo devido, Clientes que utilizam o cartão mais para compras, tem a segunda maior frequencia de compras, e compram mais parcelado,  Possui a menor número de transações de saque, são bons pagadores\n",
    "\n",
    "Cluster 2 - Possuem a segunda maior média de saldo devido, Gastam muito com compras(disparadamente), são bons pagadores \n",
    "\n",
    "Cluster 3 - Possuem a segunda menor média de saldo devido, são os que menos gastam com compras, também não gastam muito com saques (adiantamentos), tem o menor limite, é o cluster mais populoso e não são tão bons pagadores."
   ]
  },
  {
   "cell_type": "markdown",
   "id": "5a752312",
   "metadata": {},
   "source": [
    "# Conclusão\n"
   ]
  },
  {
   "cell_type": "markdown",
   "id": "70e829ee",
   "metadata": {},
   "source": [
    "Após todo trabalhado realizado com os dados disponíveis chegamos a 4 grupos de clientes. O objetivo deste projeto era oferecer recomendações de produtos baseadas nas características dos grupos de clientes alvo.\n",
    "\n",
    "Tendo como base as características mais acentuadas observadas em cada grupo, acredito que o objetivo tenha sido alcançado e por isso, abaixo seguem as recomendações por grupo:\n",
    "\n",
    "O **primeiro grupo** se destaca por ser o que mais utiliza os **saques**** que o cartão de credito oferece, com um número de transações sete vezes maior que os demais. Baseando-se nessa caracteristica, acredito que seria interessante recomendar-lhes um **empréstimo**, porém, é interessante observar o risco envolvido nessa recomendação visto que esse grupo apresentou **a menor média da porcentagem de pagamentos totais realizados**. \n",
    "\n",
    "O **segundo grupo** é composto pelos clientes que utilizam o cartão mais para realização de **compras parceladas**, não costumam utilizar tanto os saques, são bons pagadores, porém não possuem um limite de crédito tão alto. Por isso, com base nestas características, acredito que seria interessante oferece-lhes **um maior limite de crédito** para que possam comprar mais sem se preocupar tanto como o limite de crédito disponível. \n",
    "\n",
    "O **terceiro grupo** se destacou por ser os clientes que mais **utilizam o cartão para compras, tanto à vista quanto parceladas**, utilizam pouco os saques, tem o **maior limite de crédito** e, assim como o grupo anterior, também **são bons pagadores**. Talvez seja interessante oferecer outros produtos como **empréstimos** ou **criar incentivos para que estes clientes comecem a utilizar os saques**.\n",
    "\n",
    "O **quarto grupo** é o que apresenta a maior quantidade de clientes, **são clientes que não costumam utilizar muito o cartão**, quando comparado com os demais grupos, apresentam baixas frequências de compras e saques, além do menor limite de crédito. Com base nessas características, talvez seja interessante ofertar-lhes **planos de poupanças e ou investimentos**.\n"
   ]
  }
 ],
 "metadata": {
  "kernelspec": {
   "display_name": "Python 3 (ipykernel)",
   "language": "python",
   "name": "python3"
  },
  "language_info": {
   "codemirror_mode": {
    "name": "ipython",
    "version": 3
   },
   "file_extension": ".py",
   "mimetype": "text/x-python",
   "name": "python",
   "nbconvert_exporter": "python",
   "pygments_lexer": "ipython3",
   "version": "3.9.7"
  }
 },
 "nbformat": 4,
 "nbformat_minor": 5
}
